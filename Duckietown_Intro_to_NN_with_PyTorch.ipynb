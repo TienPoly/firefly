{
  "nbformat": 4,
  "nbformat_minor": 0,
  "metadata": {
    "colab": {
      "name": "Duckietown - Intro to NN with PyTorch",
      "version": "0.3.2",
      "provenance": [],
      "collapsed_sections": [],
      "toc_visible": true,
      "include_colab_link": true
    },
    "kernelspec": {
      "name": "python3",
      "display_name": "Python 3"
    },
    "accelerator": "GPU"
  },
  "cells": [
    {
      "cell_type": "markdown",
      "metadata": {
        "id": "view-in-github",
        "colab_type": "text"
      },
      "source": [
        "[View in Colaboratory](https://colab.research.google.com/github/TienPoly/firefly/blob/master/Duckietown_Intro_to_NN_with_PyTorch.ipynb)"
      ]
    },
    {
      "metadata": {
        "id": "BlmQIFSLZDdc",
        "colab_type": "text"
      },
      "cell_type": "markdown",
      "source": [
        "# Duckietown Intro to Neural Nets with PyTorch\n"
      ]
    },
    {
      "metadata": {
        "id": "9B1SZliCuVWB",
        "colab_type": "text"
      },
      "cell_type": "markdown",
      "source": [
        "\n",
        "## Prerequisites\n",
        "\n",
        "**Step 1:** install pytorch. 乁(ᴗ ͜ʖ ᴗ)ㄏ\n",
        "\n",
        "\n",
        "**Important:** the following cell is only valid for this notebook. If you're installing pytorch on your own computer (which you totally can, even without a NVIDIA GPU), then please use the instructions from here: https://pytorch.org/get-started/locally/\n",
        "\n",
        "Note that this will take a few seconds."
      ]
    },
    {
      "metadata": {
        "id": "_V-jaj13tl07",
        "colab_type": "code",
        "colab": {
          "base_uri": "https://localhost:8080/",
          "height": 56
        },
        "outputId": "dd618e7b-7e69-4e2a-d287-db94d8698c27"
      },
      "cell_type": "code",
      "source": [
        "# http://pytorch.org/\n",
        "from os import path\n",
        "from wheel.pep425tags import get_abbr_impl, get_impl_ver, get_abi_tag\n",
        "platform = '{}{}-{}'.format(get_abbr_impl(), get_impl_ver(), get_abi_tag())\n",
        "accelerator = 'cu80' if path.exists('/opt/bin/nvidia-smi') else 'cpu'\n",
        "\n",
        "# http://download.pytorch.org/whl/cu80/torch-0.4.1-cp36-cp36m-linux_x86_64.whl\n",
        "!pip install -q http://download.pytorch.org/whl/{accelerator}/torch-0.4.1-{platform}-linux_x86_64.whl torchvision\n",
        "  "
      ],
      "execution_count": 0,
      "outputs": [
        {
          "output_type": "stream",
          "text": [
            "tcmalloc: large alloc 1073750016 bytes == 0x57c2a000 @  0x7f84eb3011c4 0x46d6a4 0x5fcbcc 0x4c494d 0x54f3c4 0x553aaf 0x54e4c8 0x54f4f6 0x553aaf 0x54efc1 0x54f24d 0x553aaf 0x54efc1 0x54f24d 0x553aaf 0x54efc1 0x54f24d 0x551ee0 0x54e4c8 0x54f4f6 0x553aaf 0x54efc1 0x54f24d 0x551ee0 0x54efc1 0x54f24d 0x551ee0 0x54e4c8 0x54f4f6 0x553aaf 0x54e4c8\n"
          ],
          "name": "stdout"
        }
      ]
    },
    {
      "metadata": {
        "id": "bkCJV_gfXUYJ",
        "colab_type": "text"
      },
      "cell_type": "markdown",
      "source": [
        "**Step 2:** import and check that torch works"
      ]
    },
    {
      "metadata": {
        "id": "rRMEa74queCT",
        "colab_type": "code",
        "colab": {
          "base_uri": "https://localhost:8080/",
          "height": 36
        },
        "outputId": "4f4456a1-e068-4b2b-b8ee-b045bccf3cf8"
      },
      "cell_type": "code",
      "source": [
        "import torch\n",
        "\n",
        "torch.rand(2)"
      ],
      "execution_count": 0,
      "outputs": [
        {
          "output_type": "execute_result",
          "data": {
            "text/plain": [
              "tensor([0.8958, 0.2398])"
            ]
          },
          "metadata": {
            "tags": []
          },
          "execution_count": 3
        }
      ]
    },
    {
      "metadata": {
        "id": "8iYd9zKqX29Y",
        "colab_type": "text"
      },
      "cell_type": "markdown",
      "source": [
        "**Step 3:** convert from numpy to torch and back"
      ]
    },
    {
      "metadata": {
        "id": "9RrRuCa2X2uS",
        "colab_type": "code",
        "colab": {
          "base_uri": "https://localhost:8080/",
          "height": 244
        },
        "outputId": "a335b5d0-e0f5-4fb0-878e-a8aa2d5469eb"
      },
      "cell_type": "code",
      "source": [
        "import numpy as np\n",
        "\n",
        "a_npy = np.eye(4)\n",
        "print (a_npy)\n",
        "\n",
        "a_tor = torch.from_numpy(a_npy) # convert numpy to torch Tensor\n",
        "print (a_tor)\n",
        "\n",
        "b_npy = a_tor.numpy() # convert Tensor back to numpy\n",
        "print (b_npy)"
      ],
      "execution_count": 0,
      "outputs": [
        {
          "output_type": "stream",
          "text": [
            "[[1. 0. 0. 0.]\n",
            " [0. 1. 0. 0.]\n",
            " [0. 0. 1. 0.]\n",
            " [0. 0. 0. 1.]]\n",
            "tensor([[1., 0., 0., 0.],\n",
            "        [0., 1., 0., 0.],\n",
            "        [0., 0., 1., 0.],\n",
            "        [0., 0., 0., 1.]], dtype=torch.float64)\n",
            "[[1. 0. 0. 0.]\n",
            " [0. 1. 0. 0.]\n",
            " [0. 0. 1. 0.]\n",
            " [0. 0. 0. 1.]]\n"
          ],
          "name": "stdout"
        }
      ]
    },
    {
      "metadata": {
        "id": "IY8M4tyoX4kj",
        "colab_type": "text"
      },
      "cell_type": "markdown",
      "source": [
        "**Step 4:** Notice that if you change the data EITHER in numpy or torch, you're changing it in both"
      ]
    },
    {
      "metadata": {
        "id": "PoKov5Tluf1M",
        "colab_type": "code",
        "colab": {
          "base_uri": "https://localhost:8080/",
          "height": 244
        },
        "outputId": "456051b1-06b2-4499-815d-53c114c3b87a"
      },
      "cell_type": "code",
      "source": [
        "a_npy[0,3] = 99 # we're only changing the numpy array\n",
        "\n",
        "a_tor[1,3] = 123 # we're only changing the torch Tensor\n",
        "\n",
        "print (a_npy) # psych, no we're not\n",
        "print (a_tor)\n",
        "print (b_npy)"
      ],
      "execution_count": 0,
      "outputs": [
        {
          "output_type": "stream",
          "text": [
            "[[  1.   0.   0.  99.]\n",
            " [  0.   1.   0. 123.]\n",
            " [  0.   0.   1.   0.]\n",
            " [  0.   0.   0.   1.]]\n",
            "tensor([[  1.,   0.,   0.,  99.],\n",
            "        [  0.,   1.,   0., 123.],\n",
            "        [  0.,   0.,   1.,   0.],\n",
            "        [  0.,   0.,   0.,   1.]], dtype=torch.float64)\n",
            "[[  1.   0.   0.  99.]\n",
            " [  0.   1.   0. 123.]\n",
            " [  0.   0.   1.   0.]\n",
            " [  0.   0.   0.   1.]]\n"
          ],
          "name": "stdout"
        }
      ]
    },
    {
      "metadata": {
        "id": "cv_zr57vZffq",
        "colab_type": "text"
      },
      "cell_type": "markdown",
      "source": [
        "**Step 5:** Other than that, PyTorch is just like Numpy... but all the things are called different names"
      ]
    },
    {
      "metadata": {
        "id": "nrscWsCfZFxV",
        "colab_type": "code",
        "colab": {
          "base_uri": "https://localhost:8080/",
          "height": 55
        },
        "outputId": "d8f8283c-6095-43b9-9632-d21f27b425bd"
      },
      "cell_type": "code",
      "source": [
        "# These things do the same thing, but have different names and one is a property, \n",
        "# the other one is a function. \n",
        "\n",
        "print (a_npy.shape)\n",
        "print (a_tor.size())\n",
        "\n",
        "# Most (not all) things that you can do in Numpy, you can also do in PyTorch, \n",
        "# but you have to google waht they are called\n"
      ],
      "execution_count": 0,
      "outputs": [
        {
          "output_type": "stream",
          "text": [
            "(4, 4)\n",
            "torch.Size([4, 4])\n"
          ],
          "name": "stdout"
        }
      ]
    },
    {
      "metadata": {
        "id": "TIZfifIsaNJk",
        "colab_type": "text"
      },
      "cell_type": "markdown",
      "source": [
        "## Actual Neural Net Stuff\n",
        "\n",
        "**Step 6:** This is how you define a neural net in PyTorch\n",
        "\n",
        "**IMPORTANT:** read the comments. It's crucial that you understand what's happening. If something is unclear, ask us. I legit spent days and weeks making stupid mistakes on all of this when I started in the field and still sometimes do, so ask away now."
      ]
    },
    {
      "metadata": {
        "id": "lnNsk4fsaCNy",
        "colab_type": "code",
        "colab": {}
      },
      "cell_type": "code",
      "source": [
        "import torch # we already did this, but just in case you wanna \n",
        "# copy-paste this code block\n",
        "\n",
        "import torch.nn as nn # functions for neural nets, like layers and loss function\n",
        "import torch.nn.functional as F #  these are helper functions liks sigmoid, relu, etc\n",
        "\n",
        "# what's missing here is the import for the optimizer\n",
        "\n",
        "\n",
        "# you need to create a class that inherits from nn.Module  \n",
        "# (I mean you don't need to do anything, I'm merely recommending)\n",
        "\n",
        "class Net(nn.Module):\n",
        "    def __init__(self):\n",
        "        # Here in the init function you only create the layers that you wanna \n",
        "        # use later on. You're not actually connecting them to anything here.\n",
        "        # So you can creat them in whatever order.\n",
        "      \n",
        "        super(Net, self).__init__()\n",
        "        \n",
        "        # 3 color channels input, 6 convolutional kernels -> 6 channels output,\n",
        "        # and also 5x5 square kernel\n",
        "        self.conv1 = nn.Conv2d(3, 6, 5)\n",
        "        # after applying this to a 3x32x32 image without padding or stride, \n",
        "        # the result will be 6x28x28\n",
        "        \n",
        "        # max pooling with a 2x2 moving window\n",
        "        self.pool = nn.MaxPool2d(2, 2)\n",
        "        # after applying this to the 6x28x28 image, the result will be\n",
        "        # 6x14x14 (the channels are not affected)\n",
        "        \n",
        "        # 6 channels input, 16 convolutional kernels -> 16 channels output,\n",
        "        # and also 5x5 square kernel\n",
        "        self.conv2 = nn.Conv2d(6, 16, 5)\n",
        "        # after applying this to a 6x14x14 image without padding or stride, \n",
        "        # the result will be 16x10x10\n",
        "        \n",
        "        # Later in the actual forward pass, we will apply the maxpooling twice,\n",
        "        # but we only have to define it once, because it doesn't have any para-\n",
        "        # meters that we're backpropping through.\n",
        "        # So we know that we will apply MaxPool2d(2,2) again to the 16x10x10 image.\n",
        "        # Therefore the output of the convolutional layers will be 16x5x5.\n",
        "        \n",
        "        \n",
        "        # This layer definition requires that you did the convolution math.\n",
        "        # The final \"image\" will be 5 by 5 pixels and 16 channels deep, therefore\n",
        "        # the input is 16 * 5 * 5.\n",
        "        self.fc1 = nn.Linear(16 * 5 * 5, 120)\n",
        "        \n",
        "        # The sizes of these layers are _completely_ arbitrary.\n",
        "        self.fc2 = nn.Linear(120, 84)\n",
        "        \n",
        "        # ultimately our ouput will be a 10-element vector for each input image\n",
        "        # which corresponds to a one-hot encoding of a 0-9 integer\n",
        "        self.fc3 = nn.Linear(84, 10)\n",
        "\n",
        "    def forward(self, x):\n",
        "        # This function is for a single forward pass through the network.\n",
        "        # So you get the input, pass it through all the layers you defined above\n",
        "        # (!important, don't define any new layers here) and then return the final\n",
        "        # result.\n",
        "        \n",
        "        # Apply, in that order: convolutional layer 1 (3,6,5), ReLU, MaxPool2d(2,2)\n",
        "        x = self.pool(F.relu(self.conv1(x)))\n",
        "        \n",
        "        # Apply, in that order: convolutional layer 2 (6,16,5), ReLU, MaxPool2d(2,2)\n",
        "        x = self.pool(F.relu(self.conv2(x)))\n",
        "        \n",
        "        # The input is still 3-dimensional (shape: 16x5x5). Here we transform it\n",
        "        # into a vector of size (16*5*5 = 400)\n",
        "        x = x.view(-1, 16 * 5 * 5)\n",
        "        \n",
        "        # Pass it through fully connected layer 1 and then through ReLU\n",
        "        x = F.relu(self.fc1(x))\n",
        "        \n",
        "        # Pass it through fully connected layer 2 and then through ReLU\n",
        "        x = F.relu(self.fc2(x))\n",
        "        \n",
        "        # Pass it through the last layer WITHOUT RELU and return it\n",
        "        x = self.fc3(x)\n",
        "        return x\n",
        "\n",
        "\n",
        "# here we just instantiate the network, so we can go use it.\n",
        "net = Net()\n",
        "\n",
        "# and make sure it's using 32-bit floats (\"Float\"), not 64-bit floats (\"Double\")\n",
        "net = net.float()\n"
      ],
      "execution_count": 0,
      "outputs": []
    },
    {
      "metadata": {
        "id": "UNUV5Bu3pVmb",
        "colab_type": "text"
      },
      "cell_type": "markdown",
      "source": [
        "**Step 7 (optional):** print the network"
      ]
    },
    {
      "metadata": {
        "id": "xrqvdiBMpU8m",
        "colab_type": "code",
        "colab": {
          "base_uri": "https://localhost:8080/",
          "height": 168
        },
        "outputId": "cbe6faae-39ed-46d1-9f2e-66b6449a2cca"
      },
      "cell_type": "code",
      "source": [
        "print (net)"
      ],
      "execution_count": 0,
      "outputs": [
        {
          "output_type": "stream",
          "text": [
            "Net(\n",
            "  (conv1): Conv2d(3, 6, kernel_size=(5, 5), stride=(1, 1))\n",
            "  (pool): MaxPool2d(kernel_size=2, stride=2, padding=0, dilation=1, ceil_mode=False)\n",
            "  (conv2): Conv2d(6, 16, kernel_size=(5, 5), stride=(1, 1))\n",
            "  (fc1): Linear(in_features=400, out_features=120, bias=True)\n",
            "  (fc2): Linear(in_features=120, out_features=84, bias=True)\n",
            "  (fc3): Linear(in_features=84, out_features=10, bias=True)\n",
            ")\n"
          ],
          "name": "stdout"
        }
      ]
    },
    {
      "metadata": {
        "id": "WAGV4xUeq3NJ",
        "colab_type": "text"
      },
      "cell_type": "markdown",
      "source": [
        "**Step 8:** Test the network with dummy input"
      ]
    },
    {
      "metadata": {
        "id": "JGRaNhUhq3tP",
        "colab_type": "code",
        "colab": {
          "base_uri": "https://localhost:8080/",
          "height": 130
        },
        "outputId": "f824a83a-be13-474c-aa0a-fa949f19134a"
      },
      "cell_type": "code",
      "source": [
        "# create a single image (note how the color channel is in the front)\n",
        "dummy_input = np.random.uniform(low=0, high=1, size=(3,32,32)).astype(np.float32)\n",
        "\n",
        "# convert to Tensor:\n",
        "dummy_tensor = torch.from_numpy(dummy_input)\n",
        "\n",
        "print (\"old size:\", dummy_tensor.size())\n",
        "\n",
        "# IMPORTANT. torch works in batches. You can have a batch size of 1 (if it's only)\n",
        "# a single image, but you need to add the dimension (which you want to become the \n",
        "# new axis 0):\n",
        "\n",
        "dummy_tensor = dummy_tensor.unsqueeze(0)\n",
        "\n",
        "print (\"new size:\", dummy_tensor.size(),\"<--- see? new magical first dimension\")\n",
        "\n",
        "# now we can feed it into the network:\n",
        "prediction = net(dummy_tensor)\n",
        "\n",
        "print (\"prediction size:\",prediction.size(),\"<-- the output has the \" \\\n",
        "       \"same first dimension\")\n",
        "\n",
        "print (\"\") # empty line for spaaaaace\n",
        "print (prediction)\n",
        "\n",
        "\n"
      ],
      "execution_count": 0,
      "outputs": [
        {
          "output_type": "stream",
          "text": [
            "old size: torch.Size([3, 32, 32])\n",
            "new size: torch.Size([1, 3, 32, 32]) <--- see? new magical first dimension\n",
            "prediction size: torch.Size([1, 10]) <-- the output has the same first dimension\n",
            "\n",
            "tensor([[ 0.0876,  0.1036, -0.0070, -0.0911,  0.0069,  0.0303, -0.0479, -0.0166,\n",
            "         -0.0305, -0.0603]], grad_fn=<ThAddmmBackward>)\n"
          ],
          "name": "stdout"
        }
      ]
    },
    {
      "metadata": {
        "id": "Hlw_Lpuov2kR",
        "colab_type": "text"
      },
      "cell_type": "markdown",
      "source": [
        "**Step 9:** Become German, start optimizing!"
      ]
    },
    {
      "metadata": {
        "id": "cEVPURycv3My",
        "colab_type": "code",
        "colab": {}
      },
      "cell_type": "code",
      "source": [
        "import torch.optim as optim\n",
        "\n",
        "# instead of Mean Squared Error (MSE or \"L2\") loss we use CE loss here because \n",
        "# this has great performance if your output is categorical and ideally in range [0,1]\n",
        "criterion = nn.CrossEntropyLoss()\n",
        "\n",
        "# stochastic gradient descent... For reasons. (Remember the slides? There are better options)\n",
        "# and feed the net.parameters() to the optimizer - that's all the optimizable \n",
        "# parameters in the netwoprk\n",
        "optimizer = optim.SGD(net.parameters(), lr=0.001, momentum=0.9)"
      ],
      "execution_count": 0,
      "outputs": []
    },
    {
      "metadata": {
        "id": "QzosG1H9pWhI",
        "colab_type": "text"
      },
      "cell_type": "markdown",
      "source": [
        "**Step 10:** Do a trial run of the optimization"
      ]
    },
    {
      "metadata": {
        "id": "HU8wzIYQ4fYb",
        "colab_type": "code",
        "colab": {
          "base_uri": "https://localhost:8080/",
          "height": 93
        },
        "outputId": "50523b95-a9cb-4c9b-c203-dd936eec0ad0"
      },
      "cell_type": "code",
      "source": [
        "# let's stack (\"concatenate\" - \"torch.cat()\") 4 images into a minibatch:\n",
        "inputs = torch.cat([dummy_tensor, dummy_tensor, dummy_tensor, dummy_tensor], dim=0).float()\n",
        "print (\"inputs.size()\", inputs.size())\n",
        "\n",
        "# let's make some dummy labels - notice how it's only the batch dimension\n",
        "labels = torch.zeros(4).long()\n",
        "print (\"labels.size()\",labels.size())\n",
        "\n",
        "# zero the parameter gradients (always do this during learning before every forward pass)\n",
        "optimizer.zero_grad()\n",
        "\n",
        "# predict the outputs\n",
        "outputs = net(inputs)\n",
        "print (\"outputs.size()\", outputs.size())\n",
        "\n",
        "# now we have a problem: our labels are unidimensional, but the prediction is\n",
        "# 10-dimensional (on purpose)... what do?\n",
        "# Answer: you can either spread out the ground truth into one-hot encoding\n",
        "# OOOOR: you can use a loss function that can accept both: CrossEntropy. ( ͡° ͜ʖ ͡°)\n",
        "  \n",
        "loss = criterion(outputs, labels) # apply the loss function, notice the format of \n",
        "# loss(prediction, ground_truth) <-- that's important\n",
        "\n",
        "# calculate the backpropagation values\n",
        "loss.backward()\n",
        "\n",
        "# apply the backprop values according to the optimizer\n",
        "optimizer.step()\n",
        "\n",
        "# And print loss - very important - PLOT THIS! If this doesn't go a lot lower\n",
        "# then you are done and the network is converged\n",
        "print (\"Loss:\", loss.item())\n",
        "\n",
        "\n",
        "\n",
        "\n",
        "\n",
        "# Now run this cell couple of times and watch the loss go down. "
      ],
      "execution_count": 0,
      "outputs": [
        {
          "output_type": "stream",
          "text": [
            "inputs.size() torch.Size([4, 3, 32, 32])\n",
            "labels.size() torch.Size([4])\n",
            "outputs.size() torch.Size([4, 10])\n",
            "Loss: 2.1836884021759033\n"
          ],
          "name": "stdout"
        }
      ]
    },
    {
      "metadata": {
        "id": "QIqVJoFc-Jtr",
        "colab_type": "text"
      },
      "cell_type": "markdown",
      "source": [
        "## Now for some hashtag bigdata\n",
        "\n",
        "**Step 11:** Load the CIFAR-10 dataset\n",
        "\n",
        "(no worries it's a standard image dataset, it's very smol and you can download it directly through torch, without manually downloading it)"
      ]
    },
    {
      "metadata": {
        "id": "iK-SL4jepWLb",
        "colab_type": "code",
        "colab": {
          "base_uri": "https://localhost:8080/",
          "height": 55
        },
        "outputId": "36b05cbc-d21c-4d16-b13e-db1c0900a128"
      },
      "cell_type": "code",
      "source": [
        "# torchvision has some helper functions for image-based dataset\n",
        "import torchvision\n",
        "\n",
        "# we want to apply certain things to all of our images - that's what transforms do\n",
        "import torchvision.transforms as transforms\n",
        "\n",
        "\n",
        "# we would like all of our incoming images to: become a torch Tensor \n",
        "# (instead of a numpy array) and we wanna normalize all images \n",
        "# normalization: img = (img-mean)/standard_deviation\n",
        "transform = transforms.Compose(\n",
        "    [transforms.ToTensor(),\n",
        "     transforms.Normalize((0.5, 0.5, 0.5), (0.5, 0.5, 0.5))]) # parameters for\n",
        "# the normalization are meand and std for each channel\n",
        "\n",
        "\n",
        "# download the training part of the CIFAR-10 dataset and apply transforms\n",
        "trainset = torchvision.datasets.CIFAR10(root='./data', train=True,\n",
        "                                        download=True, transform=transform)\n",
        "\n",
        "# wrap that into a multi-threaded data loader for quicker multi-CPU data loading \n",
        "# and for being able to shuffle the data and sample whole batches and not just\n",
        "# single elements\n",
        "trainloader = torch.utils.data.DataLoader(trainset, batch_size=4,\n",
        "                                          shuffle=True, num_workers=0)\n",
        "\n",
        "# same thing for the test dataset\n",
        "\n",
        "testset = torchvision.datasets.CIFAR10(root='./data', train=False,\n",
        "                                       download=True, transform=transform)\n",
        "testloader = torch.utils.data.DataLoader(testset, batch_size=4,\n",
        "                                         shuffle=False, num_workers=0)\n",
        "\n",
        "# these are the names of the labels, corresponding to 0,1,2,3, etc.\n",
        "classes = ('plane', 'car', 'bird', 'cat',\n",
        "           'deer', 'dog', 'frog', 'horse', 'ship', 'truck')\n",
        "\n",
        "# is it a bird? is it a plane?..."
      ],
      "execution_count": 0,
      "outputs": [
        {
          "output_type": "stream",
          "text": [
            "Files already downloaded and verified\n",
            "Files already downloaded and verified\n"
          ],
          "name": "stdout"
        }
      ]
    },
    {
      "metadata": {
        "id": "Uo3R7PjD_naz",
        "colab_type": "text"
      },
      "cell_type": "markdown",
      "source": [
        "**Step 12:** ALWAYS verify your data!\n",
        "\n",
        "Before running _any_ experiment, if you're an undergrad or a postdoc, always look at your data and make sure it's what you expect it to be"
      ]
    },
    {
      "metadata": {
        "id": "keA8Z3BmpXjb",
        "colab_type": "code",
        "colab": {
          "base_uri": "https://localhost:8080/",
          "height": 243
        },
        "outputId": "eba8cc7b-2d6b-4d79-a157-ed397b8cd162"
      },
      "cell_type": "code",
      "source": [
        "print (\"dataset length:\",len(trainset))\n",
        "\n",
        "image, label = trainset[0]\n",
        "\n",
        "print (\"single image (size):\",images.size()) # <-- this is a tensor\n",
        "print (\"single label:\",label) # <-- this is not, but it will be if we use the \"trainloader\" from above\n",
        "\n",
        "\n",
        "### now let's actually -look- at the images\n",
        "\n",
        "import matplotlib.pyplot as plt\n",
        "\n",
        "def imshow(img):\n",
        "    img = img / 2 + 0.5     # unnormalize\n",
        "    npimg = img.numpy()\n",
        "    plt.imshow(np.transpose(npimg, (1, 2, 0)))\n",
        "\n",
        "\n",
        "# get some random training images using the trainloader\n",
        "dataiter = iter(trainloader)\n",
        "images, labels = dataiter.next()\n",
        "\n",
        "# show images - make a grid of 4\n",
        "imshow(torchvision.utils.make_grid(images))\n",
        "\n",
        "# print labels\n",
        "print(' '.join('%5s' % classes[labels[j]] for j in range(4)))\n",
        "\n"
      ],
      "execution_count": 0,
      "outputs": [
        {
          "output_type": "stream",
          "text": [
            "dataset length: 50000\n",
            "single image (size): torch.Size([4, 3, 32, 32])\n",
            "single label: 6\n",
            " bird  bird  bird   dog\n"
          ],
          "name": "stdout"
        },
        {
          "output_type": "display_data",
          "data": {
            "image/png": "[encoded data removed]",
            "text/plain": [
              "<matplotlib.figure.Figure at 0x7f0d28b21438>"
            ]
          },
          "metadata": {
            "tags": []
          }
        }
      ]
    },
    {
      "metadata": {
        "id": "M00f0zcJBRU0",
        "colab_type": "code",
        "colab": {
          "base_uri": "https://localhost:8080/",
          "height": 36
        },
        "outputId": "99e38e31-37ea-4a64-be5f-320552bbd5d6"
      },
      "cell_type": "code",
      "source": [
        "print (images.min(), images.mean(), images.max()) # important to verify your distribution"
      ],
      "execution_count": 0,
      "outputs": [
        {
          "output_type": "stream",
          "text": [
            "tensor(-1.) tensor(-0.0128) tensor(0.9216)\n"
          ],
          "name": "stdout"
        }
      ]
    },
    {
      "metadata": {
        "id": "p3xcPfEdBv7f",
        "colab_type": "text"
      },
      "cell_type": "markdown",
      "source": [
        "## Let's glue it all together\n",
        "\n",
        "**Step 13:** Let's actually run the optimization in a loop with the dataset"
      ]
    },
    {
      "metadata": {
        "id": "DlXmDQvxp-t_",
        "colab_type": "code",
        "colab": {
          "base_uri": "https://localhost:8080/",
          "height": 281
        },
        "outputId": "bdf8296b-834e-4614-d9f0-86302e7438f6"
      },
      "cell_type": "code",
      "source": [
        "print (\"[epoch, line of data]\")\n",
        "\n",
        "for epoch in range(2):  # loop over the dataset multiple times\n",
        "\n",
        "    running_loss = 0.0\n",
        "    \n",
        "    for i, data in enumerate(trainloader, 0):\n",
        "\n",
        "        # get the inputs\n",
        "        inputs, labels = data\n",
        "\n",
        "        # zero the parameter gradients\n",
        "        optimizer.zero_grad()\n",
        "\n",
        "        # forward + backward + optimize\n",
        "        outputs = net(inputs)\n",
        "        loss = criterion(outputs, labels)\n",
        "        loss.backward()\n",
        "        optimizer.step()\n",
        "\n",
        "        # print statistics\n",
        "        running_loss += loss.item()\n",
        "        \n",
        "        if i % 2000 == 1999:    # print every 2000 mini-batches\n",
        "            print('[{}, {}] \\tloss: {}'.format(\n",
        "                epoch + 1, \n",
        "                i + 1, \n",
        "                running_loss / 2000)\n",
        "                )\n",
        "            \n",
        "            running_loss = 0.0\n",
        "\n",
        "print('Finished Training')\n"
      ],
      "execution_count": 0,
      "outputs": [
        {
          "output_type": "stream",
          "text": [
            "[epoch, line of data]\n",
            "[1, 2000] \tloss: 1.2298088152706623\n",
            "[1, 4000] \tloss: 1.224535327926278\n",
            "[1, 6000] \tloss: 1.227540152385831\n",
            "[1, 8000] \tloss: 1.2025431981086732\n",
            "[1, 10000] \tloss: 1.1652015558481217\n",
            "[1, 12000] \tloss: 1.1984199027717113\n",
            "[2, 2000] \tloss: 1.119078600794077\n",
            "[2, 4000] \tloss: 1.1059417317956686\n",
            "[2, 6000] \tloss: 1.1212996656745673\n",
            "[2, 8000] \tloss: 1.1136480078697204\n",
            "[2, 10000] \tloss: 1.1010444841235876\n",
            "[2, 12000] \tloss: 1.132534493520856\n",
            "Finished Training\n"
          ],
          "name": "stdout"
        }
      ]
    },
    {
      "metadata": {
        "id": "M-GoezmKDAUM",
        "colab_type": "text"
      },
      "cell_type": "markdown",
      "source": [
        "... Now copy the entire cell below here and run again (to see how the loss converges to something if you run it long enough)"
      ]
    },
    {
      "metadata": {
        "id": "Xwy6XDPeqOeG",
        "colab_type": "code",
        "colab": {}
      },
      "cell_type": "code",
      "source": [
        "# insert code here"
      ],
      "execution_count": 0,
      "outputs": []
    },
    {
      "metadata": {
        "id": "Y_Rr6QLMDaj9",
        "colab_type": "text"
      },
      "cell_type": "markdown",
      "source": [
        "**Step 14:** Inspect again - manually check your predictions"
      ]
    },
    {
      "metadata": {
        "id": "Aw0ZJEo_Dhqf",
        "colab_type": "code",
        "colab": {
          "base_uri": "https://localhost:8080/",
          "height": 186
        },
        "outputId": "a273ba93-96e9-48e1-fc00-9d03b407c37f"
      },
      "cell_type": "code",
      "source": [
        "dataiter = iter(testloader)\n",
        "images, labels = dataiter.next()\n",
        "\n",
        "# print images\n",
        "imshow(torchvision.utils.make_grid(images))\n",
        "\n",
        "print('GroundTruth: ', ' '.join('%5s' % classes[labels[j]] for j in range(4)))"
      ],
      "execution_count": 0,
      "outputs": [
        {
          "output_type": "stream",
          "text": [
            "GroundTruth:    cat  ship  ship plane\n"
          ],
          "name": "stdout"
        },
        {
          "output_type": "display_data",
          "data": {
            "image/png": "[encoded data removed]",
            "text/plain": [
              "<matplotlib.figure.Figure at 0x7f0d19717668>"
            ]
          },
          "metadata": {
            "tags": []
          }
        }
      ]
    },
    {
      "metadata": {
        "id": "S9H_rNT7Dj4b",
        "colab_type": "code",
        "colab": {
          "base_uri": "https://localhost:8080/",
          "height": 36
        },
        "outputId": "f8de4d38-aef2-4ced-90e7-34c94a8ae2d5"
      },
      "cell_type": "code",
      "source": [
        "# now let's get the net's predictions\n",
        "outputs = net(images)\n",
        "\n",
        "# argmax the 10 dimensions into one\n",
        "_, predicted = torch.max(outputs, 1)\n",
        "\n",
        "# get the names of the labels for each int label\n",
        "print('Predicted: ', ' '.join('%5s' % classes[predicted[j]]\n",
        "                              for j in range(4)))"
      ],
      "execution_count": 0,
      "outputs": [
        {
          "output_type": "stream",
          "text": [
            "Predicted:    cat   car   car  ship\n"
          ],
          "name": "stdout"
        }
      ]
    },
    {
      "metadata": {
        "id": "L9yDCC9IEJ_d",
        "colab_type": "text"
      },
      "cell_type": "markdown",
      "source": [
        "close enough.... I guess 乁( ͡ಠ ʖ̯ ͡ಠ)ㄏ"
      ]
    },
    {
      "metadata": {
        "id": "pkBge1WNEaq7",
        "colab_type": "text"
      },
      "cell_type": "markdown",
      "source": [
        "**Step 15:** Actually get a numerical evaluation"
      ]
    },
    {
      "metadata": {
        "id": "zdU9PGW-D2OU",
        "colab_type": "code",
        "colab": {
          "base_uri": "https://localhost:8080/",
          "height": 36
        },
        "outputId": "2ec64d0c-cb27-4c3f-e6f6-f2e033540b9c"
      },
      "cell_type": "code",
      "source": [
        "correct = 0\n",
        "total = 0\n",
        "\n",
        "# If we're not learning anything then we use the torch.no_grad() environment.\n",
        "# In this environment no gradients are ever calculated.\n",
        "with torch.no_grad():\n",
        "    for data in testloader:\n",
        "      \n",
        "        images, labels = data\n",
        "        outputs = net(images)\n",
        "        \n",
        "        _, predicted = torch.max(outputs.data, 1)\n",
        "        \n",
        "        total += labels.size(0)\n",
        "        correct += (predicted == labels).sum().item()\n",
        "\n",
        "print(\"Accuracy of the network on the \" \\\n",
        "      \"10000 test images: {}%\".format(100 * correct / total))"
      ],
      "execution_count": 0,
      "outputs": [
        {
          "output_type": "stream",
          "text": [
            "Accuracy of the network on the 10000 test images: 58.0%\n"
          ],
          "name": "stdout"
        }
      ]
    },
    {
      "metadata": {
        "id": "F_tnvMSIHcG5",
        "colab_type": "text"
      },
      "cell_type": "markdown",
      "source": [
        "## Homework (yes, yes I know...)\n",
        "\n",
        "**Goal: improve the score, i.e. the test set accuracy**\n",
        "\n",
        "Ideas:\n",
        "- try out a different optimizer\n",
        "- try out more training epochs\n",
        "- try out a bigger neural network (more hidden nodes or more layers) \n",
        "- try plotting the loss over time and stop training when the loss converges\n",
        "- (if you're fancy) try out dataset augmentation - that means applying more transformations to your images before feeding them to the network - like random rotation, random noise, etc. Here's a ist of all transforms: https://pytorch.org/docs/stable/torchvision/transforms.html\n",
        "\n",
        "Send me an email with your best score before Sunday midnight, and send me a link to your notebook/colab. The top 3 contributions wil get a cookie."
      ]
    },
    {
      "metadata": {
        "id": "QYb28WD3KQlq",
        "colab_type": "code",
        "colab": {}
      },
      "cell_type": "code",
      "source": [
        ""
      ],
      "execution_count": 0,
      "outputs": []
    }
  ]
}